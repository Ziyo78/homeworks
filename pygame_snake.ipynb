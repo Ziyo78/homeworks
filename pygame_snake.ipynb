{
 "cells": [
  {
   "cell_type": "code",
   "execution_count": 2,
   "id": "86943a62",
   "metadata": {},
   "outputs": [],
   "source": [
    "import pygame\n",
    "import random "
   ]
  },
  {
   "cell_type": "code",
   "execution_count": null,
   "id": "01f92ea5",
   "metadata": {},
   "outputs": [],
   "source": [
    "pygame.init()\n",
    "width, height = 1920, 1080\n",
    "grid_size = 20\n",
    "grig_width = width // grid_size\n",
    "grig_height = height // grid_size\n",
    "screen = pygame.display.set_mode((width, height))\n",
    "pygame.display.set_caption('snake')\n",
    "clock = pygame.time.Clock()\n",
    "speed = 20\n",
    "running = True\n",
    "white = (255, 255, 255)\n",
    "red = (255, 0, 0)\n",
    "green = (0, 255, 0)\n",
    "black = (0, 0, 0)\n",
    "snake = [(grig_width // 2, grig_height // 2)]\n",
    "snake_dir = (1, 0)\n",
    "food = (random.randint(0, grig_width-1), random.randint(0, grig_height-1))\n",
    "while running:\n",
    "    for event in pygame.event.get():\n",
    "        if event.type == pygame.KEYDOWN:\n",
    "            if event.key == pygame.K_ESCAPE:\n",
    "                running = False\n",
    "            if event.key == pygame.K_w and snake_dir != (0, 1):\n",
    "                snake_dir = (0, -1)\n",
    "            elif event.key == pygame.K_s and snake_dir != (0, -1):\n",
    "                snake_dir = (0, 1)\n",
    "            elif event.key == pygame.K_a and snake_dir != (1, 0):\n",
    "                snake_dir = (-1, 0)\n",
    "            elif event.key == pygame.K_d and snake_dir != (-1, 0):\n",
    "                snake_dir = (1, 0)  \n",
    "    head = (snake[0][0] + snake_dir[0], snake[0][1]+ snake_dir[1])\n",
    "    if head[0] < 0 or head[0] >= grig_width or head[1] < 0 or head[1] >= grig_height:\n",
    "        running = False\n",
    "    if head in snake:\n",
    "        running = False\n",
    "    snake.insert(0, head)\n",
    "    if head == food:\n",
    "        food = (random.randint(0, grig_width-1), random.randint(0, grig_height - 1))\n",
    "    else:\n",
    "        snake.pop()\n",
    "    screen.fill(black)\n",
    "    pygame.draw.rect(screen, red, (food[0] * grid_size, food[1] * grid_size, grid_size, grid_size))\n",
    "    for segment in snake:\n",
    "        pygame.draw.rect(screen, green, (segment[0] * grid_size, segment[1] * grid_size, grid_size, grid_size))\n",
    "    pygame.display.flip()\n",
    "    clock.tick(speed)\n",
    "pygame.quit()"
   ]
  },
  {
   "cell_type": "code",
   "execution_count": null,
   "id": "4bdd5531",
   "metadata": {},
   "outputs": [],
   "source": []
  },
  {
   "cell_type": "code",
   "execution_count": null,
   "id": "4cfb8e62",
   "metadata": {},
   "outputs": [],
   "source": []
  },
  {
   "cell_type": "code",
   "execution_count": null,
   "id": "17415736",
   "metadata": {},
   "outputs": [],
   "source": []
  }
 ],
 "metadata": {
  "kernelspec": {
   "display_name": "Python 3",
   "language": "python",
   "name": "python3"
  },
  "language_info": {
   "codemirror_mode": {
    "name": "ipython",
    "version": 3
   },
   "file_extension": ".py",
   "mimetype": "text/x-python",
   "name": "python",
   "nbconvert_exporter": "python",
   "pygments_lexer": "ipython3",
   "version": "3.13.4"
  }
 },
 "nbformat": 4,
 "nbformat_minor": 5
}
